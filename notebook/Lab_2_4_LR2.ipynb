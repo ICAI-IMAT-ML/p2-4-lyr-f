{
 "cells": [
  {
   "cell_type": "markdown",
   "metadata": {
    "id": "AYMATJ8kleZD"
   },
   "source": [
    "# Laboratory 2.4: Linear Regression contd.\n",
    "\n",
    "In this practice you will extend your Linear Regression code to a more general case. Here you will need the `synthetic_dataset.csv` present in the .zip file you downloaded alongside this notebook.\n",
    "\n",
    "In addition, we will be using the following libraries:\n",
    "- Data management:\n",
    "    - [numpy](https://numpy.org/)\n",
    "    - [pandas](https://pandas.pydata.org/)\n",
    "    - [scipy](https://scipy.org/)\n",
    "- Modelling:\n",
    "    - [scikit-learn](https://scikit-learn.org)\n",
    "- Plotting:\n",
    "    - [seaborn](https://seaborn.pydata.org/)\n",
    "    - [matplotlib](https://matplotlib.org/)\n",
    "    \n",
    "### **All the things you need to do are marked by a \"TODO\" comment nearby. Make sure you *read carefully everything before working* and solve each point before submitting your solution.**"
   ]
  },
  {
   "cell_type": "code",
   "execution_count": 9,
   "metadata": {
    "id": "xgMlbAFVleZE"
   },
   "outputs": [],
   "source": [
    "import numpy as np\n",
    "import pandas as pd\n",
    "import matplotlib.pyplot as plt\n",
    "import scipy.stats as stats\n",
    "import seaborn as sns\n",
    "import os\n",
    "import sys\n",
    "# Get the absolute path of the project root\n",
    "project_root = os.path.abspath(os.path.join(os.getcwd(), \"..\"))\n",
    "\n",
    "# Add it to sys.path\n",
    "sys.path.insert(0, project_root)"
   ]
  },
  {
   "cell_type": "markdown",
   "metadata": {
    "id": "mVG3fnFnleZF"
   },
   "source": [
    "### Custom Linear Regression model"
   ]
  },
  {
   "cell_type": "markdown",
   "metadata": {},
   "source": [
    "You are going to be working with the following class that you already know from the previous practice, so feel free to recycle as much code as you want (or can). In this case, you will be enhancing its functionalities, getting a more general function than the one you implemented before. \n",
    "\n",
    "**For now, just continue with the practice and do not fill anything, you will come back later to fill the gaps.**"
   ]
  },
  {
   "cell_type": "code",
   "execution_count": 10,
   "metadata": {
    "id": "-CsK6Eq7leZF"
   },
   "outputs": [],
   "source": [
    "from src.Lab_2_4_LR2 import LinearRegressor\n"
   ]
  },
  {
   "cell_type": "markdown",
   "metadata": {},
   "source": [
    "**Data**: Remember, from the previous lab session, we had the following univariate dataset:"
   ]
  },
  {
   "cell_type": "code",
   "execution_count": 11,
   "metadata": {},
   "outputs": [],
   "source": [
    "# Define data to use in this practice\n",
    "x = np.array([0, 3, 2, 1, 4, 6, 7, 8, 9, 10])\n",
    "y = np.array([2, 3, 2, 4, 5, 7, 9, 9, 10, 13])"
   ]
  },
  {
   "cell_type": "markdown",
   "metadata": {},
   "source": [
    "Use the code *you wrote* from the previous practice (not the sklearn version) to fit the data in the following cell"
   ]
  },
  {
   "cell_type": "code",
   "execution_count": 12,
   "metadata": {},
   "outputs": [],
   "source": [
    "linreg = LinearRegressor()\n",
    "linreg.fit(x, y)"
   ]
  },
  {
   "cell_type": "markdown",
   "metadata": {},
   "source": [
    "Before we get into the things you'll do today, let's construct a function that provides the values for the $R^2$, RMSE and MAE. For this, the inputs of this function are the true $y$ values and the predicted $\\hat{y}$ values"
   ]
  },
  {
   "cell_type": "code",
   "execution_count": 13,
   "metadata": {},
   "outputs": [],
   "source": [
    "from src.Lab_2_4_LR2 import evaluate_regression"
   ]
  },
  {
   "cell_type": "code",
   "execution_count": 14,
   "metadata": {},
   "outputs": [
    {
     "name": "stdout",
     "output_type": "stream",
     "text": [
      "{'R2': 0.9201359388275276, 'RMSE': 1.0126472956832233, 'MAE': 0.8945454545454545}\n"
     ]
    }
   ],
   "source": [
    "# Obtain regression performance metrics\n",
    "y_pred = linreg.predict(x)\n",
    "evaluation_metrics = evaluate_regression(y, y_pred)\n",
    "print(evaluation_metrics)"
   ]
  },
  {
   "cell_type": "markdown",
   "metadata": {},
   "source": [
    "## Polynomial regression"
   ]
  },
  {
   "cell_type": "markdown",
   "metadata": {},
   "source": [
    "In the previous practice, you have trained a model assuming that the relationship between input and output is linear. However, in most real cases this is not common and the relationship between input and output is not linear. In this section, we are going to learn how to deal with non-linear relationships when using linear models. Read `synthetic_dataset.csv` and train a linear regression model. \n",
    "\n",
    "*The target variable is the last column of the dataset*"
   ]
  },
  {
   "cell_type": "code",
   "execution_count": 25,
   "metadata": {},
   "outputs": [],
   "source": [
    "data = pd.read_csv(\"../data/synthetic_dataset.csv\")\n",
    "\n",
    "X = data[[\"Input1\", \"Input2\", \"Input3\", \"Input4\"]].to_numpy()\n",
    "y = data[\"Output\"].to_numpy()"
   ]
  },
  {
   "cell_type": "markdown",
   "metadata": {},
   "source": [
    "In this case we will skip the preprocessing and go straight to the modelling phase. Therefore, fit the model here."
   ]
  },
  {
   "cell_type": "code",
   "execution_count": 27,
   "metadata": {},
   "outputs": [],
   "source": [
    "model = LinearRegressor()\n",
    "model.fit(X, y)"
   ]
  },
  {
   "cell_type": "code",
   "execution_count": 29,
   "metadata": {},
   "outputs": [
    {
     "name": "stdout",
     "output_type": "stream",
     "text": [
      "{'R2': 0.5452814241832913, 'RMSE': 3.1936452748702813, 'MAE': 2.237394521024785}\n"
     ]
    }
   ],
   "source": [
    "y_predicted = model.predict(X)\n",
    "print(evaluate_regression(y, y_predicted))"
   ]
  },
  {
   "cell_type": "markdown",
   "metadata": {},
   "source": [
    "If you trained the model well, the $R^2$ metric will be terrible, in the order of $0.5$. **What happened here?** Let's try to clear this via the *study of the residuals*.\n",
    "\n",
    "Create a function to plot the residuals of the model. This function shall:\n",
    "- Create a **histogram** of the residuals.\n",
    "- Create a **Q-Q plot** of the residuals.\n",
    "- Create a **scatterplot of the residuals against each input variable, the true output variable and the predictions**.\n",
    "\n",
    "**Why do we want to check the residuals this way?** \n",
    "\n",
    "> Write your answer here"
   ]
  },
  {
   "cell_type": "code",
   "execution_count": 18,
   "metadata": {},
   "outputs": [],
   "source": [
    "def plot_residuals(data, output_column, prediction_column):\n",
    "    \"\"\"\n",
    "    Plot residuals of a model against all variables in the DataFrame, using box plots for\n",
    "    categorical variables and scatter plots for continuous variables. Additionally, plot\n",
    "    a histogram and a QQ-plot of the residuals.\n",
    "\n",
    "    Args:\n",
    "        data (pd.DataFrame): The DataFrame containing the data.\n",
    "        output_column (str): The name of the output column.\n",
    "        prediction_column (str): The name of the prediction column.\n",
    "    \"\"\"\n",
    "    # TODO: Calculate residuals\n",
    "    residuals = None \n",
    "    \n",
    "    num_features = len(data.columns) - 2  # Exclude output and prediction columns\n",
    "\n",
    "    # Determine the number of rows and columns for subplots\n",
    "    num_rows = int(np.ceil(np.sqrt(num_features + 4)))  # Add 4 for histogram, Q-Q plot, true output vs residuals, and predictions vs residuals\n",
    "    num_cols = int(np.ceil((num_features + 4) / num_rows))\n",
    "\n",
    "    # Plot histogram of residuals\n",
    "    plt.figure(figsize=(5 * num_cols, 4 * num_rows))\n",
    "    plt.subplot(num_rows, num_cols, 1)\n",
    "    plt.hist(residuals, bins=30, edgecolor='black')\n",
    "    plt.title('Histogram of Residuals')\n",
    "    plt.xlabel('Residuals')\n",
    "    plt.ylabel('Frequency')\n",
    "\n",
    "    # TODO: Plot Q-Q plot of residuals (tip: use stats.probplot from scipy)\n",
    "    plt.subplot(num_rows, num_cols, 2)\n",
    "    stats.probplot(None, None, None)       # Fill the code here\n",
    "    plt.title('Q-Q Plot of Residuals')\n",
    "\n",
    "    # TODO: Plot residuals against output variable\n",
    "    plt.subplot(num_rows, num_cols, 3)\n",
    "    plt.scatter(None, None, alpha=0.5)     # Fill the code here\n",
    "    plt.title('Residuals vs True Output')\n",
    "    plt.xlabel('True Output')\n",
    "    plt.ylabel('Residuals')\n",
    "\n",
    "    # Plot residuals against prediction variable\n",
    "    plt.subplot(num_rows, num_cols, 4)\n",
    "    plt.scatter(data[prediction_column], residuals, alpha=0.5)   # Use this as example for later\n",
    "    plt.title('Residuals vs Predictions')\n",
    "    plt.xlabel('Predictions')\n",
    "    plt.ylabel('Residuals')\n",
    "\n",
    "    # TODO: Plot residuals against each input variable\n",
    "    for i, col in enumerate(data.columns):\n",
    "        if col not in [output_column, prediction_column]:\n",
    "            plt.subplot(num_rows, num_cols, i + 5)\n",
    "            plt.scatter(None, None, alpha=0.5)   # Fill the code here\n",
    "            plt.title(f'Residuals vs {col}')\n",
    "            plt.xlabel(col)\n",
    "            plt.ylabel('Residuals')\n",
    "\n",
    "    plt.tight_layout()\n",
    "    plt.show()"
   ]
  },
  {
   "cell_type": "markdown",
   "metadata": {},
   "source": [
    "Now, **print the coefficients** of the model **alongside the plots** you can generate with the previous function"
   ]
  },
  {
   "cell_type": "code",
   "execution_count": 19,
   "metadata": {},
   "outputs": [
    {
     "name": "stdout",
     "output_type": "stream",
     "text": [
      "Coefficients of the model: None\n"
     ]
    },
    {
     "ename": "ValueError",
     "evalue": "matmul: Input operand 0 does not have enough dimensions (has 0, gufunc core with signature (n?,k),(k,m?)->(n?,m?) requires 1)",
     "output_type": "error",
     "traceback": [
      "\u001b[1;31m---------------------------------------------------------------------------\u001b[0m",
      "\u001b[1;31mValueError\u001b[0m                                Traceback (most recent call last)",
      "Cell \u001b[1;32mIn[19], line 6\u001b[0m\n\u001b[0;32m      3\u001b[0m \u001b[38;5;28mprint\u001b[39m(\u001b[38;5;124mf\u001b[39m\u001b[38;5;124m\"\u001b[39m\u001b[38;5;124mCoefficients of the model: \u001b[39m\u001b[38;5;132;01m{\u001b[39;00mcoef_dict\u001b[38;5;132;01m}\u001b[39;00m\u001b[38;5;124m\"\u001b[39m)\n\u001b[0;32m      5\u001b[0m \u001b[38;5;66;03m# Plot the residuals for the predictions\u001b[39;00m\n\u001b[1;32m----> 6\u001b[0m data[\u001b[38;5;124m\"\u001b[39m\u001b[38;5;124mPredictions\u001b[39m\u001b[38;5;124m\"\u001b[39m] \u001b[38;5;241m=\u001b[39m linreg\u001b[38;5;241m.\u001b[39mpredict(X)\n\u001b[0;32m      7\u001b[0m plot_residuals(data, \u001b[38;5;124m'\u001b[39m\u001b[38;5;124mOutput\u001b[39m\u001b[38;5;124m'\u001b[39m, \u001b[38;5;124m'\u001b[39m\u001b[38;5;124mPredictions\u001b[39m\u001b[38;5;124m'\u001b[39m)\n",
      "File \u001b[1;32mc:\\Users\\leyre\\Desktop\\Git\\p2-4-lyr-f\\src\\Lab_2_4_LR2.py:138\u001b[0m, in \u001b[0;36mpredict\u001b[1;34m(self, X)\u001b[0m\n\u001b[0;32m    136\u001b[0m \u001b[38;5;28;01melse\u001b[39;00m:\n\u001b[0;32m    137\u001b[0m     predictions \u001b[38;5;241m=\u001b[39m (\u001b[38;5;28mself\u001b[39m\u001b[38;5;241m.\u001b[39mintercept \u001b[38;5;241m+\u001b[39m X \u001b[38;5;241m@\u001b[39m \u001b[38;5;28mself\u001b[39m\u001b[38;5;241m.\u001b[39mcoefficients)\n\u001b[1;32m--> 138\u001b[0m \u001b[38;5;28;01mreturn\u001b[39;00m predictions\n",
      "\u001b[1;31mValueError\u001b[0m: matmul: Input operand 0 does not have enough dimensions (has 0, gufunc core with signature (n?,k),(k,m?)->(n?,m?) requires 1)"
     ]
    }
   ],
   "source": [
    "# TODO:  First, construct a dictionary of the coefficients to print them\n",
    "coef_dict = None \n",
    "print(f\"Coefficients of the model: {coef_dict}\")\n",
    "\n",
    "# Plot the residuals for the predictions\n",
    "data[\"Predictions\"] = linreg.predict(X)\n",
    "plot_residuals(data, 'Output', 'Predictions')"
   ]
  },
  {
   "cell_type": "markdown",
   "metadata": {},
   "source": [
    "**What are we seeing here? Is there any way to improve the model?**\n",
    "> Write your answer here"
   ]
  },
  {
   "cell_type": "markdown",
   "metadata": {},
   "source": [
    "As you may expect, you should see some higher-order contribution to the behavior of the data, since some of the residuals have clear structures. In particular, `Input1` has a higher-order polynomial contribution (*which order do you think?*), while `Input2` has an *exponential* form. \n",
    "\n",
    "In order to fit a regression model with these contributions, construct a new dataframe where each column corresponds to the desired manipulation of each variable. Then, fit the regression model and see the results.\n",
    "\n",
    "* Also, pay attention to the fact that you can use whatever contribution you see fit here, not just these previous ones."
   ]
  },
  {
   "cell_type": "code",
   "execution_count": null,
   "metadata": {},
   "outputs": [],
   "source": [
    "# TODO\n",
    "data_transf = pd.DataFrame({'Input1': input1 ** None,   # Substitute \"None\" by the degree you think works here\n",
    "                            'Input2': np.exp(input3),\n",
    "                            'Input3': input4,\n",
    "                            'Output': output})\n",
    "X_transf = data_transf.iloc[:,:3].values\n",
    "\n",
    "# Train linear regression model\n",
    "linreg = LinearRegressor()\n",
    "linreg.fit(X_transf, y)\n",
    "\n",
    "# Evaluate the metrics to see the behavior\n",
    "y_pred = linreg.predict(X_transf)\n",
    "evaluation_metrics = evaluate_regression(y, y_pred)\n",
    "print(evaluation_metrics)"
   ]
  },
  {
   "cell_type": "markdown",
   "metadata": {},
   "source": [
    "Now, print again the coefficients for the model and plot the residuals as you did before.\n",
    "\n",
    "**What do you observe?**\n",
    "> Write your answer here"
   ]
  },
  {
   "cell_type": "code",
   "execution_count": null,
   "metadata": {},
   "outputs": [],
   "source": [
    "coef_dict = {'Input' + str(i+1): coef for i, coef in enumerate(linreg.coefficients)}\n",
    "print(f\"Coefficients of the model: {coef_dict}\")\n",
    "data_transf[\"Predictions\"] = linreg.predict(X_transf)\n",
    "plot_residuals(data_transf, 'Output', 'Predictions')"
   ]
  },
  {
   "cell_type": "markdown",
   "metadata": {},
   "source": [
    "## Categorical variables"
   ]
  },
  {
   "cell_type": "markdown",
   "metadata": {},
   "source": [
    "Linear regression, as is, can not deal with categorical variables. Therefore, we need to encode the variables when preprocessing the data. Complete the one-hot-encode function below. Take into account that strings shall be treated automatically as categorical variables.\n",
    "<center>\n",
    "\n",
    "![Image](https://miro.medium.com/v2/resize:fit:1358/1*ggtP4a5YaRx6l09KQaYOnw.png)\n",
    "\n",
    "</center>"
   ]
  },
  {
   "cell_type": "code",
   "execution_count": null,
   "metadata": {},
   "outputs": [],
   "source": [
    "from src.Lab_2_4_LR2 import one_hot_encode\n"
   ]
  },
  {
   "cell_type": "markdown",
   "metadata": {},
   "source": [
    "We will use this in a usual dataset from the internet. If everything is well, you should be able to run the following code as-is."
   ]
  },
  {
   "cell_type": "code",
   "execution_count": null,
   "metadata": {},
   "outputs": [],
   "source": [
    "# Load the dataset\n",
    "url = \"https://raw.githubusercontent.com/stedy/Machine-Learning-with-R-datasets/master/insurance.csv\"\n",
    "data = pd.read_csv(url)\n",
    "\n",
    "\n",
    "y = data['charges'].values\n",
    "X = data.drop(columns=['charges']).values\n",
    "\n",
    "# Preprocess the data\n",
    "# Identify categorical columns for one-hot encoding\n",
    "categorical_columns = [data.columns.get_loc(col) for col in ['sex', 'smoker', 'region']]\n",
    "\n",
    "# One-hot encode categorical variables\n",
    "X_encoded = one_hot_encode(X, categorical_columns, drop_first=True)\n",
    "X_encoded = X_encoded.astype(float)                                  # Watch out for this!\n",
    "\n",
    "# Instantiate and fit the LinearRegressor\n",
    "model = LinearRegressor()\n",
    "model.fit(X_encoded, y)\n",
    "\n",
    "# Predict and evaluate\n",
    "y_pred = model.predict(X_encoded)\n",
    "evaluation_metrics = evaluate_regression(y, y_pred)\n",
    "print(evaluation_metrics)"
   ]
  },
  {
   "cell_type": "markdown",
   "metadata": {},
   "source": [
    "Compare yourself with scikit"
   ]
  },
  {
   "cell_type": "code",
   "execution_count": null,
   "metadata": {},
   "outputs": [],
   "source": [
    "from sklearn.linear_model import LinearRegression\n",
    "\n",
    "# Load the dataset\n",
    "url = \"https://raw.githubusercontent.com/stedy/Machine-Learning-with-R-datasets/master/insurance.csv\"\n",
    "data = pd.read_csv(url)\n",
    "\n",
    "# Preprocess the data\n",
    "# TODO: One-hot encode categorical variables. Use pd.get_dummies()\n",
    "data_encoded = pd.get_dummies(None) \n",
    "\n",
    "# Split the data into features (X) and target (y)\n",
    "X = data_encoded.drop('charges', axis=1)\n",
    "y = data_encoded['charges']\n",
    "\n",
    "# Instantiate the LinearRegression model\n",
    "model = LinearRegression()\n",
    "\n",
    "# Fit the model on the training data\n",
    "model.fit(X, y)\n",
    "\n",
    "# Make predictions on the test data\n",
    "y_pred = model.predict(X)\n",
    "\n",
    "# Evaluate the model\n",
    "evaluation_metrics = evaluate_regression(y, y_pred)\n",
    "print(evaluation_metrics)\n"
   ]
  },
  {
   "cell_type": "markdown",
   "metadata": {},
   "source": [
    "### Colored residuals"
   ]
  },
  {
   "cell_type": "markdown",
   "metadata": {},
   "source": [
    "Now that we have categorical variables, the relationship between inputs and outputs might differ for different levels of the categorical variables. Therefore, you will modify the `plot_residuals` function to **color the scatter plots based on the value of a specific categorical variable**."
   ]
  },
  {
   "cell_type": "code",
   "execution_count": null,
   "metadata": {},
   "outputs": [],
   "source": [
    "def plot_residuals(data, output_column, prediction_column, categorical_var=None):\n",
    "    \"\"\"\n",
    "    Plot residuals of a model against all variables in the DataFrame. Additionally, plot\n",
    "    a histogram and a QQ-plot of the residuals.\n",
    "\n",
    "    Args:\n",
    "        data (pd.DataFrame): The DataFrame containing the data.\n",
    "        output_column (str): The name of the output column.\n",
    "        prediction_column (str): The name of the prediction column.\n",
    "        categorical_var (str, optional): The name of a categorical variable for coloring. Defaults to None.\n",
    "    \"\"\"\n",
    "    # TODO: As before, calculate residuals\n",
    "    data['residuals'] = None \n",
    "\n",
    "    # Identify columns to plot (excluding the output and prediction columns)\n",
    "    columns_to_plot = [col for col in data.columns if col not in [output_column, prediction_column, 'residuals']]\n",
    "\n",
    "    # Number of rows and columns for the subplot\n",
    "    n_cols = 3\n",
    "    n_rows = int(len(columns_to_plot) / n_cols) + 2  # Additional row for histogram and QQ-plot\n",
    "\n",
    "    # Create subplots\n",
    "    fig, axes = plt.subplots(n_rows, n_cols, figsize=(n_cols * 5, n_rows * 5))\n",
    "\n",
    "    # Flatten the axes array for easy iteration\n",
    "    axes = axes.flatten()\n",
    "\n",
    "    # TODO: Plot each variable against the residuals\n",
    "    for i, col in enumerate(columns_to_plot):\n",
    "        ax = axes[i]\n",
    "        \n",
    "        if categorical_var and categorical_var in data.columns:\n",
    "            sns.scatterplot(x = None, y = None, data=data, ax=ax hue = None)\n",
    "        else:\n",
    "            sns.scatterplot(x = None, y = None, data=data, ax=ax)\n",
    "        \n",
    "        ax.set_title(f'Residuals vs {col}')\n",
    "        ax.axhline(0, ls='--', color='r')\n",
    "\n",
    "    # Histogram of residuals\n",
    "    sns.histplot(data['residuals'], kde=True, ax=axes[i + 1])\n",
    "    axes[i + 1].set_title('Histogram of Residuals')\n",
    "\n",
    "    # QQ-plot of residuals\n",
    "    stats.probplot(data['residuals'], dist=\"norm\", plot=axes[i + 2])\n",
    "    axes[i + 2].set_title('QQ-Plot of Residuals')\n",
    "\n",
    "    # Hide any unused axes\n",
    "    for j in range(i + 3, len(axes)):\n",
    "        axes[j].set_visible(False)\n",
    "\n",
    "    plt.tight_layout()\n",
    "    plt.show()\n",
    "\n",
    "data['predictions'] = model.predict(X)\n",
    "# Example usage\n",
    "plot_residuals(data, 'charges', 'predictions', 'smoker')\n"
   ]
  },
  {
   "cell_type": "markdown",
   "metadata": {},
   "source": [
    "**What's happening with the residuals?**\n",
    "> Write your answer here"
   ]
  },
  {
   "cell_type": "markdown",
   "metadata": {},
   "source": [
    "# _Rolling in the deep_"
   ]
  },
  {
   "cell_type": "markdown",
   "metadata": {},
   "source": [
    "Following the theory taught in class, do the following:\n",
    "\n",
    "1. **implement the gradient descent algorithm** to train the linear regression model and reproduce the results using this training method. You can find the structure for the gradient descent inside the initial linear regression function, inside the method `fit_gradient_descent`.\n",
    "2. As final steps, **display the progress of the loss function by plotting the gradient descent steps on the X-axis and the loss function on the Y-axis for each step**. \n",
    "3. Additionally, **using the same representation as in the previous section where each axis represents the values of w and b, show the sequence of steps that bring you closer to the optimum each time**. Each step should be a point in space, with coordinates (w,b). Compare all the results with the optimal solution from the scikit fit coefficients.\n",
    "\n",
    "Feel free to add as many cells as you may need from here onwards in order to fulfill these three tasks"
   ]
  },
  {
   "cell_type": "code",
   "execution_count": null,
   "metadata": {},
   "outputs": [],
   "source": []
  }
 ],
 "metadata": {
  "colab": {
   "provenance": []
  },
  "kernelspec": {
   "display_name": "base",
   "language": "python",
   "name": "python3"
  },
  "language_info": {
   "codemirror_mode": {
    "name": "ipython",
    "version": 3
   },
   "file_extension": ".py",
   "mimetype": "text/x-python",
   "name": "python",
   "nbconvert_exporter": "python",
   "pygments_lexer": "ipython3",
   "version": "3.12.7"
  }
 },
 "nbformat": 4,
 "nbformat_minor": 1
}
